{
 "cells": [
  {
   "cell_type": "markdown",
   "id": "f90cd603",
   "metadata": {},
   "source": [
    "List Data Type"
   ]
  },
  {
   "cell_type": "code",
   "execution_count": 5,
   "id": "0fee7ca6",
   "metadata": {},
   "outputs": [
    {
     "name": "stdout",
     "output_type": "stream",
     "text": [
      "['orange', 'cherry', 'mango']\n"
     ]
    }
   ],
   "source": [
    "# A list is a built-in data structure that holds an ordered collection of items, which can be of mixed types.\n",
    "\n",
    "my_list = [1, 2, 3, 'a', True]\n",
    "\n",
    "# Key features\n",
    "# Mutable: You can change, add, or remove elements.\n",
    "# Indexed: Access items via indices (my_list[0] gives 1).\n",
    "# Can hold any type: Integers, strings, other lists, etc.\n",
    "\n",
    "# For e.g.\n",
    "fruits = ['apple', 'banana', 'cherry']\n",
    "fruits.append('mango')       # Add an item\n",
    "fruits[1] = 'orange'         # Modify an item\n",
    "del fruits[0]                # Remove an item\n",
    "print(fruits)\n",
    "\n"
   ]
  },
  {
   "cell_type": "code",
   "execution_count": 9,
   "id": "53e62a5c",
   "metadata": {},
   "outputs": [
    {
     "name": "stdout",
     "output_type": "stream",
     "text": [
      "[0, 1, 4, 9, 16, 25, 36, 49, 64, 81]\n",
      "[0, 2, 4, 6, 8]\n",
      "[5, 6, 6]\n"
     ]
    }
   ],
   "source": [
    "# List comprehension\n",
    "\n",
    "# syntax\n",
    "# new_list = [expression for item in iterable if condition]\n",
    "\n",
    "# Example 1: Square of numbers from 0 to 9\n",
    "squares = [x**2 for x in range(10)]\n",
    "print(squares)\n",
    "# Output: [0, 1, 4, 9, 16, 25, 36, 49, 64, 81]\n",
    "\n",
    "\n",
    "# Example 2: Filtering even numbers\n",
    "evens = [x for x in range(10) if x % 2 == 0]\n",
    "print(evens)\n",
    "# Output: [0, 2, 4, 6, 8]\n",
    "\n",
    "# Example 3: With strings\n",
    "words = [\"apple\", \"banana\", \"cherry\"]\n",
    "# lengths = [len(word) for word in words]\n",
    "length = [len(word) for word in words]\n",
    "print(length)\n",
    "# Output: [5, 6, 6]\n",
    "\n",
    "\n"
   ]
  },
  {
   "cell_type": "markdown",
   "id": "3f35aa5a",
   "metadata": {},
   "source": [
    "Tuple Data Type"
   ]
  },
  {
   "cell_type": "code",
   "execution_count": null,
   "id": "9e8fb226",
   "metadata": {},
   "outputs": [],
   "source": [
    "# Tuples in python\n",
    "# A tuple is a built-in data type in Python used to store an ordered, immutable collection of elements.\n",
    "my_tuple = (1, 2, 3)\n",
    "# Use parentheses ()\n",
    "# Elements can be of different types\n",
    "# Comma is essential even for a single-element tuple:\n",
    "single = (5,)  # This is a tuple\n",
    "not_a_tuple = (5)  # This is just an integer"
   ]
  },
  {
   "cell_type": "code",
   "execution_count": null,
   "id": "43d851b6",
   "metadata": {},
   "outputs": [
    {
     "name": "stdout",
     "output_type": "stream",
     "text": [
      "Alice\n",
      "25\n"
     ]
    }
   ],
   "source": [
    "# Key features\n",
    "# ordered, immutable, faster, hashable\n",
    "\n",
    "# Creating and accessing a tuple\n",
    "person = (\"Alice\", 25, \"Engineer\")\n",
    "print(person[0])  # Output: Alice\n",
    "\n",
    "# Tuple unpacking\n",
    "name, age, role = person\n",
    "print(age)\n",
    "\n",
    "# nested tuples\n",
    "nested = ((1, 2), (3, 4))\n",
    "print(nested[1][0])  # 3\n"
   ]
  },
  {
   "cell_type": "markdown",
   "id": "66ad4be1",
   "metadata": {},
   "source": [
    "Tuple VS List"
   ]
  },
  {
   "cell_type": "markdown",
   "id": "d04103d3",
   "metadata": {},
   "source": [
    "| Feature     | Tuple           | List                  |\n",
    "| ----------- | --------------- | --------------------- |\n",
    "| Syntax      | `(1, 2, 3)`     | `[1, 2, 3]`           |\n",
    "| Mutability  | Immutable       | Mutable               |\n",
    "| Use Case    | Fixed data      | Dynamic/Changing data |\n",
    "| Performance | Slightly faster | Slightly slower       |\n"
   ]
  },
  {
   "cell_type": "markdown",
   "id": "86ccc809",
   "metadata": {},
   "source": [
    "Sets in Python"
   ]
  },
  {
   "cell_type": "code",
   "execution_count": null,
   "id": "fc9a4d81",
   "metadata": {},
   "outputs": [],
   "source": [
    "# A set is an unordered, mutable, and unindexed collection of unique elements.\n",
    "my_set = {1, 2, 3}\n",
    "empty_set = set()  # NOT {} — that creates an empty dictionary\n"
   ]
  },
  {
   "cell_type": "code",
   "execution_count": 15,
   "id": "e842f92d",
   "metadata": {},
   "outputs": [
    {
     "name": "stdout",
     "output_type": "stream",
     "text": [
      "{1, 2, 3, 4}\n",
      "{1, 3, 4}\n",
      "{1, 3, 4}\n",
      "{3, 4}\n",
      "set()\n"
     ]
    }
   ],
   "source": [
    "# Key features\n",
    "# | Feature            | Description                                                           |\n",
    "# | ------------------ | --------------------------------------------------------------------- |\n",
    "# | **Unordered**      | No indexing or slicing — items have no specific order                 |\n",
    "# | **Mutable**        | Can add or remove elements                                            |\n",
    "# | **Unique values**  | Automatically removes duplicates                                      |\n",
    "# | **Set operations** | Supports mathematical operations like union, intersection, difference |\n",
    "\n",
    "s = {1, 2, 3}\n",
    "s.add(4)             # {1, 2, 3, 4}\n",
    "print(s)\n",
    "s.remove(2)          # {1, 3, 4}\n",
    "print(s)\n",
    "\n",
    "s.discard(10)        # No error if 10 not in set\n",
    "print(s)\n",
    "\n",
    "s.pop()              # Removes a random element\n",
    "print(s)\n",
    "\n",
    "s.clear()            # Empties the set\n",
    "print(s)\n",
    "\n",
    "\n"
   ]
  },
  {
   "cell_type": "code",
   "execution_count": null,
   "id": "50654954",
   "metadata": {},
   "outputs": [],
   "source": [
    "# Set operations\n",
    "a = {1, 2, 3}\n",
    "b = {3, 4, 5}\n",
    "\n",
    "a | b      # Union → {1, 2, 3, 4, 5}\n",
    "a & b      # Intersection → {3}\n",
    "a - b      # Difference → {1, 2}\n",
    "a ^ b      # Symmetric Difference → {1, 2, 4, 5}\n"
   ]
  },
  {
   "cell_type": "code",
   "execution_count": null,
   "id": "d2709690",
   "metadata": {},
   "outputs": [],
   "source": [
    "# Remove duplicates from a list\n",
    "numbers = [1, 2, 2, 3, 4, 4]\n",
    "unique_numbers = list(set(numbers))  # [1, 2, 3, 4]\n",
    "\n",
    "\n",
    "# Frozen Set (Immutable Set)\n",
    "fs = frozenset([1, 2, 3])\n",
    "# fs.add(4) → Error: frozenset is immutable\n",
    "\n",
    "| Feature    | Set           | List      | Tuple     |\n",
    "| ---------- | ------------- | --------- | --------- |\n",
    "| Order      | Unordered     | Ordered   | Ordered   |\n",
    "| Duplicates | Not allowed   | Allowed   | Allowed   |\n",
    "| Mutability | Mutable       | Mutable   | Immutable |\n",
    "| Indexing   | Not supported | Supported | Supported |\n",
    "\n"
   ]
  },
  {
   "cell_type": "markdown",
   "id": "ace4f972",
   "metadata": {},
   "source": [
    "Dictionaries in Python"
   ]
  },
  {
   "cell_type": "code",
   "execution_count": null,
   "id": "0c2facb1",
   "metadata": {},
   "outputs": [],
   "source": [
    "# A dictionary (dict) in Python is an unordered, mutable collection of key-value pairs.\n",
    "\n",
    "# Syntax\n",
    "my_dict = {\n",
    "    \"name\": \"Alice\",\n",
    "    \"age\": 25,\n",
    "    \"job\": \"Engineer\"\n",
    "}\n"
   ]
  },
  {
   "cell_type": "code",
   "execution_count": 18,
   "id": "c04971e0",
   "metadata": {},
   "outputs": [
    {
     "name": "stdout",
     "output_type": "stream",
     "text": [
      "Alice\n",
      "25\n",
      "Found\n",
      "name Alice\n",
      "age 26\n",
      "name Alice\n",
      "age 26\n",
      "Alice\n",
      "26\n",
      "name\n",
      "age\n"
     ]
    }
   ],
   "source": [
    "# Common Operations\n",
    "# Access\n",
    "my_dict = {\n",
    "    \"name\": \"Alice\",\n",
    "    \"age\": 25,\n",
    "    \"job\": \"Engineer\"\n",
    "}\n",
    "\n",
    "print(my_dict[\"name\"])         # Alice\n",
    "print(my_dict.get(\"age\"))      # 25\n",
    "\n",
    "# Add/Update\n",
    "my_dict[\"city\"] = \"New York\"\n",
    "my_dict[\"age\"] = 26\n",
    "\n",
    "# Delete\n",
    "del my_dict[\"job\"]\n",
    "my_dict.pop(\"city\")\n",
    "\n",
    "# Check key\n",
    "if \"name\" in my_dict:\n",
    "    print(\"Found\")\n",
    "\n",
    "\n",
    "for key in my_dict:\n",
    "    print(key, my_dict[key])\n",
    "\n",
    "for key, value in my_dict.items():\n",
    "    print(key, value)\n",
    "\n",
    "for value in my_dict.values():\n",
    "    print(value)\n",
    "\n",
    "for key in my_dict.keys():\n",
    "    print(key)\n"
   ]
  },
  {
   "cell_type": "code",
   "execution_count": null,
   "id": "d139d372",
   "metadata": {},
   "outputs": [],
   "source": [
    "| Method         | Description                       |\n",
    "| -------------- | --------------------------------- |\n",
    "| `get(key)`     | Returns value for key, or `None`  |\n",
    "| `keys()`       | Returns all keys                  |\n",
    "| `values()`     | Returns all values                |\n",
    "| `items()`      | Returns all key-value pairs       |\n",
    "| `pop(key)`     | Removes item by key               |\n",
    "| `update(dict)` | Merges another dict into this one |\n",
    "| `clear()`      | Empties the dictionary            |\n"
   ]
  },
  {
   "cell_type": "code",
   "execution_count": null,
   "id": "a17caf1f",
   "metadata": {},
   "outputs": [
    {
     "name": "stdout",
     "output_type": "stream",
     "text": [
      "90\n"
     ]
    }
   ],
   "source": [
    "# Nested Dictionary\n",
    "student = {\n",
    "    \"name\": \"Alice\",\n",
    "    \"grades\": {\"math\": 90, \"science\": 85}\n",
    "}\n",
    "print(student[\"grades\"][\"math\"])  # 90\n",
    "\n",
    "# Dictionary Comprehension\n",
    "squares = {x: x*x for x in range(5)}\n",
    "# Output: {0: 0, 1: 1, 2: 4, 3: 9, 4: 16}\n",
    "\n"
   ]
  },
  {
   "cell_type": "markdown",
   "id": "8c4894d8",
   "metadata": {},
   "source": [
    "Difference between pop & delete"
   ]
  },
  {
   "cell_type": "code",
   "execution_count": null,
   "id": "09345b19",
   "metadata": {},
   "outputs": [],
   "source": [
    "# pop()\n",
    "my_list = [10, 20, 30]\n",
    "item = my_list.pop(1)   # Removes index 1 (value 20) and returns it\n",
    "print(my_list)          # [10, 30]\n",
    "print(item)             # 20\n",
    "\n",
    "my_dict = {\"a\": 1, \"b\": 2}\n",
    "value = my_dict.pop(\"a\")  # Removes key \"a\" and returns 1\n",
    "print(my_dict)            # {'b': 2}\n",
    "print(value)              # 1\n",
    "\n",
    "# del\n",
    "my_list = [10, 20, 30]\n",
    "del my_list[1]        # Removes index 1 (value 20)\n",
    "print(my_list)        # [10, 30]\n",
    "\n",
    "my_dict = {\"a\": 1, \"b\": 2}\n",
    "del my_dict[\"a\"]       # Removes key \"a\"\n",
    "print(my_dict)         # {'b': 2}\n"
   ]
  }
 ],
 "metadata": {
  "kernelspec": {
   "display_name": "base",
   "language": "python",
   "name": "python3"
  },
  "language_info": {
   "codemirror_mode": {
    "name": "ipython",
    "version": 3
   },
   "file_extension": ".py",
   "mimetype": "text/x-python",
   "name": "python",
   "nbconvert_exporter": "python",
   "pygments_lexer": "ipython3",
   "version": "3.12.7"
  }
 },
 "nbformat": 4,
 "nbformat_minor": 5
}
