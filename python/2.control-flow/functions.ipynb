{
 "cells": [
  {
   "cell_type": "code",
   "execution_count": null,
   "id": "39b7e4c3",
   "metadata": {},
   "outputs": [],
   "source": [
    "# Defining a Function\n",
    "def greet():\n",
    "    print(\"Hello, World!\")\n",
    "\n",
    "# Calling a Function\n",
    "greet()  # Output: Hello, World!\n",
    "\n",
    "# Function with Parameters\n",
    "def greet(name):\n",
    "    print(\"Hello,\", name)\n",
    "\n",
    "greet(\"Alice\")  # Output: Hello, Alice\n",
    "\n",
    "# Function with Return Value\n",
    "def add(a, b):\n",
    "    return a + b\n",
    "\n",
    "result = add(3, 5)\n",
    "print(result)  # Output: 8\n",
    "\n",
    "# Default Parameter Values\n",
    "def greet(name=\"Guest\"):\n",
    "    print(\"Hello,\", name)\n",
    "\n",
    "greet()          # Output: Hello, Guest\n",
    "greet(\"Bob\")     # Output: Hello, Bob\n",
    "\n",
    "# Arbitrary Arguments\n",
    "def total(*numbers):\n",
    "    return sum(numbers)\n",
    "\n",
    "print(total(1, 2, 3))  # Output: 6\n",
    "\n",
    "\n",
    "def info(**details):\n",
    "    for key, value in details.items():\n",
    "        print(key, value)\n",
    "\n",
    "info(name=\"Alice\", age=25)\n",
    "# Output:\n",
    "# name Alice\n",
    "# age 25\n",
    "\n"
   ]
  },
  {
   "cell_type": "markdown",
   "id": "36848bad",
   "metadata": {},
   "source": [
    "Lambda Function\n"
   ]
  },
  {
   "cell_type": "code",
   "execution_count": null,
   "id": "ad306d1f",
   "metadata": {},
   "outputs": [],
   "source": [
    "square = lambda x: x * x\n",
    "print(square(4))  # Output: 16\n"
   ]
  },
  {
   "cell_type": "markdown",
   "id": "71a8e0a2",
   "metadata": {},
   "source": [
    "Docstrings"
   ]
  },
  {
   "cell_type": "code",
   "execution_count": 1,
   "id": "3e3e3142",
   "metadata": {},
   "outputs": [
    {
     "name": "stdout",
     "output_type": "stream",
     "text": [
      "Prints a greeting with the given name.\n"
     ]
    }
   ],
   "source": [
    "def greet(name):\n",
    "    \"\"\"Prints a greeting with the given name.\"\"\"\n",
    "    print(\"Hello,\", name)\n",
    "\n",
    "print(greet.__doc__)\n"
   ]
  },
  {
   "cell_type": "markdown",
   "id": "53310174",
   "metadata": {},
   "source": [
    "Map, filter & reduce"
   ]
  },
  {
   "cell_type": "code",
   "execution_count": 4,
   "id": "cb21550e",
   "metadata": {},
   "outputs": [
    {
     "name": "stdout",
     "output_type": "stream",
     "text": [
      "[1, 4, 9, 16]\n",
      "[2, 4]\n",
      "24\n"
     ]
    }
   ],
   "source": [
    "nums = [1, 2, 3, 4]\n",
    "squares = list(map(lambda x: x**2, nums))\n",
    "print(squares)  # [1, 4, 9, 16]\n",
    "\n",
    "nums = [1, 2, 3, 4, 5]\n",
    "even = list(filter(lambda x: x % 2 == 0, nums))\n",
    "print(even)  # [2, 4]\n",
    "\n",
    "# from functools import reduce\n",
    "\n",
    "nums = [1, 2, 3, 4]\n",
    "product = reduce(lambda x, y: x * y, nums)\n",
    "print(product)  # 24\n",
    "\n"
   ]
  },
  {
   "cell_type": "markdown",
   "id": "4ec726f2",
   "metadata": {},
   "source": [
    "| Function   | Purpose                           | Returns       | Use Case                         |\n",
    "| ---------- | --------------------------------- | ------------- | -------------------------------- |\n",
    "| `map()`    | Apply function to each item       | map object    | Transform each element           |\n",
    "| `filter()` | Select items meeting condition    | filter object | Filtering elements               |\n",
    "| `reduce()` | Combine all items into one result | Single value  | Aggregation (e.g., sum, product) |\n"
   ]
  },
  {
   "cell_type": "markdown",
   "id": "54fc8b4e",
   "metadata": {},
   "source": []
  }
 ],
 "metadata": {
  "kernelspec": {
   "display_name": "base",
   "language": "python",
   "name": "python3"
  },
  "language_info": {
   "codemirror_mode": {
    "name": "ipython",
    "version": 3
   },
   "file_extension": ".py",
   "mimetype": "text/x-python",
   "name": "python",
   "nbconvert_exporter": "python",
   "pygments_lexer": "ipython3",
   "version": "3.12.7"
  }
 },
 "nbformat": 4,
 "nbformat_minor": 5
}
