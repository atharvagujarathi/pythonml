{
 "cells": [
  {
   "cell_type": "code",
   "execution_count": 1,
   "id": "36b01d13",
   "metadata": {},
   "outputs": [
    {
     "name": "stdout",
     "output_type": "stream",
     "text": [
      "x is greater than 5\n"
     ]
    }
   ],
   "source": [
    "# If statement\n",
    "x = 10\n",
    "if x > 5:\n",
    "    print(\"x is greater than 5\")\n"
   ]
  },
  {
   "cell_type": "code",
   "execution_count": 2,
   "id": "a6f610ea",
   "metadata": {},
   "outputs": [
    {
     "name": "stdout",
     "output_type": "stream",
     "text": [
      "x is 5 or less\n"
     ]
    }
   ],
   "source": [
    "# if else statement\n",
    "x = 3\n",
    "if x > 5:\n",
    "    print(\"x is greater than 5\")\n",
    "else:\n",
    "    print(\"x is 5 or less\")\n"
   ]
  },
  {
   "cell_type": "code",
   "execution_count": 3,
   "id": "94255ebd",
   "metadata": {},
   "outputs": [
    {
     "name": "stdout",
     "output_type": "stream",
     "text": [
      "x is equal to 5\n"
     ]
    }
   ],
   "source": [
    "# if elif else\n",
    "x = 5\n",
    "\n",
    "if x > 5:\n",
    "    print(\"x is greater than 5\")\n",
    "elif x == 5:\n",
    "    print(\"x is equal to 5\")\n",
    "else:\n",
    "    print(\"x is less than 5\")\n"
   ]
  },
  {
   "cell_type": "code",
   "execution_count": 4,
   "id": "8eae8cff",
   "metadata": {},
   "outputs": [
    {
     "name": "stdout",
     "output_type": "stream",
     "text": [
      "x > 5 and y > 2\n"
     ]
    }
   ],
   "source": [
    "# nested if\n",
    "x = 10\n",
    "y = 5\n",
    "\n",
    "if x > 5:\n",
    "    if y > 2:\n",
    "        print(\"x > 5 and y > 2\")\n"
   ]
  },
  {
   "cell_type": "code",
   "execution_count": null,
   "id": "b322a967",
   "metadata": {},
   "outputs": [],
   "source": [
    "# using logical operators\n",
    "x = 10\n",
    "y = 5\n",
    "\n",
    "if x > 5 and y < 10:\n",
    "    print(\"Both conditions are true\")\n"
   ]
  }
 ],
 "metadata": {
  "kernelspec": {
   "display_name": "base",
   "language": "python",
   "name": "python3"
  },
  "language_info": {
   "codemirror_mode": {
    "name": "ipython",
    "version": 3
   },
   "file_extension": ".py",
   "mimetype": "text/x-python",
   "name": "python",
   "nbconvert_exporter": "python",
   "pygments_lexer": "ipython3",
   "version": "3.12.7"
  }
 },
 "nbformat": 4,
 "nbformat_minor": 5
}
