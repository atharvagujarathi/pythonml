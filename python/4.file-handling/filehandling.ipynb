{
 "cells": [
  {
   "cell_type": "markdown",
   "id": "7d9a6c18",
   "metadata": {},
   "source": [
    "opening a file"
   ]
  },
  {
   "cell_type": "markdown",
   "id": "2109a048",
   "metadata": {},
   "source": [
    "Common modes:\n",
    "\n",
    "'r' – Read (default)\n",
    "\n",
    "'w' – Write (overwrites if file exists)\n",
    "\n",
    "'a' – Append\n",
    "\n",
    "'x' – Create (fails if file exists)\n",
    "\n",
    "'b' – Binary mode (e.g., 'rb', 'wb')\n",
    "\n",
    "'t' – Text mode (default)"
   ]
  },
  {
   "cell_type": "code",
   "execution_count": 9,
   "id": "6f9c8a23",
   "metadata": {},
   "outputs": [],
   "source": [
    "# file = open(\"example.txt\", \"mode\")"
   ]
  },
  {
   "cell_type": "markdown",
   "id": "577fd10f",
   "metadata": {},
   "source": [
    "Creating/Writing a File"
   ]
  },
  {
   "cell_type": "code",
   "execution_count": 14,
   "id": "ae5b08d3",
   "metadata": {},
   "outputs": [
    {
     "name": "stdout",
     "output_type": "stream",
     "text": [
      "8\n"
     ]
    }
   ],
   "source": [
    "file = open(\"example.txt\", \"w\")\n",
    "content = file.write(\"New File\")\n",
    "print(content)\n",
    "file.close()\n"
   ]
  },
  {
   "cell_type": "markdown",
   "id": "b9f0d1c9",
   "metadata": {},
   "source": [
    "Reading a File"
   ]
  },
  {
   "cell_type": "code",
   "execution_count": 15,
   "id": "0742ea14",
   "metadata": {},
   "outputs": [
    {
     "name": "stdout",
     "output_type": "stream",
     "text": [
      "New File\n"
     ]
    },
    {
     "data": {
      "text/plain": [
       "[]"
      ]
     },
     "execution_count": 15,
     "metadata": {},
     "output_type": "execute_result"
    }
   ],
   "source": [
    "file = open(\"example.txt\", \"r\")\n",
    "content = file.read()\n",
    "print(content)\n",
    "# file.close()\n",
    "\n",
    "file.readline()    # Reads one line\n",
    "file.readlines()   # Returns a list of all lines\n",
    "\n"
   ]
  },
  {
   "cell_type": "markdown",
   "id": "7284c703",
   "metadata": {},
   "source": [
    " Appending to a File"
   ]
  },
  {
   "cell_type": "code",
   "execution_count": 10,
   "id": "417e0197",
   "metadata": {},
   "outputs": [],
   "source": [
    "file = open(\"example.txt\", \"a\")\n",
    "file.write(\"\\nNew line\")\n",
    "file.close()\n"
   ]
  },
  {
   "cell_type": "markdown",
   "id": "295c455a",
   "metadata": {},
   "source": [
    "Best Practice: Using with (auto-closes file)"
   ]
  },
  {
   "cell_type": "code",
   "execution_count": 16,
   "id": "3c302d4f",
   "metadata": {},
   "outputs": [
    {
     "name": "stdout",
     "output_type": "stream",
     "text": [
      "New File\n"
     ]
    }
   ],
   "source": [
    "with open(\"example.txt\", \"r\") as file:\n",
    "    content = file.read()\n",
    "    print(content)"
   ]
  },
  {
   "cell_type": "markdown",
   "id": "d78b7ecf",
   "metadata": {},
   "source": [
    "basic Example Using os.remove()"
   ]
  },
  {
   "cell_type": "code",
   "execution_count": null,
   "id": "e364e0ed",
   "metadata": {},
   "outputs": [],
   "source": [
    "import os\n",
    "\n",
    "if os.path.exists(\"example.txt\"):\n",
    "    os.remove(\"example.txt\")\n",
    "    print(\"File deleted.\")\n",
    "else:\n",
    "    print(\"File not found.\")\n",
    "\n"
   ]
  }
 ],
 "metadata": {
  "kernelspec": {
   "display_name": "base",
   "language": "python",
   "name": "python3"
  },
  "language_info": {
   "codemirror_mode": {
    "name": "ipython",
    "version": 3
   },
   "file_extension": ".py",
   "mimetype": "text/x-python",
   "name": "python",
   "nbconvert_exporter": "python",
   "pygments_lexer": "ipython3",
   "version": "3.12.7"
  }
 },
 "nbformat": 4,
 "nbformat_minor": 5
}
