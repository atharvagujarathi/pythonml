{
 "cells": [
  {
   "cell_type": "markdown",
   "id": "fb203b18",
   "metadata": {},
   "source": [
    "### Generators"
   ]
  },
  {
   "cell_type": "markdown",
   "id": "bdf4251b",
   "metadata": {},
   "source": [
    "It is a simpler way to create iterators. They used the yield keyword to produce a series of values lazily, which means they generate values on the fly and do not store them in memory"
   ]
  },
  {
   "cell_type": "code",
   "execution_count": 1,
   "id": "369cb60a",
   "metadata": {},
   "outputs": [],
   "source": [
    "def square(n):\n",
    "    for i in range(3):\n",
    "        yield i ** 2"
   ]
  },
  {
   "cell_type": "code",
   "execution_count": null,
   "id": "8af13f12",
   "metadata": {},
   "outputs": [
    {
     "data": {
      "text/plain": [
       "<generator object square at 0x0000024EA639B920>"
      ]
     },
     "execution_count": 2,
     "metadata": {},
     "output_type": "execute_result"
    }
   ],
   "source": [
    "a = square(3)"
   ]
  },
  {
   "cell_type": "code",
   "execution_count": 4,
   "id": "6174d815",
   "metadata": {},
   "outputs": [
    {
     "name": "stdout",
     "output_type": "stream",
     "text": [
      "0\n",
      "1\n",
      "4\n"
     ]
    }
   ],
   "source": [
    "for i in square(3):\n",
    "    print(i)"
   ]
  },
  {
   "cell_type": "code",
   "execution_count": 7,
   "id": "ce04a88b",
   "metadata": {},
   "outputs": [
    {
     "data": {
      "text/plain": [
       "<generator object square at 0x0000024EA6E0B9F0>"
      ]
     },
     "execution_count": 7,
     "metadata": {},
     "output_type": "execute_result"
    }
   ],
   "source": [
    "a = square(3)\n",
    "a"
   ]
  },
  {
   "cell_type": "code",
   "execution_count": 11,
   "id": "5983e08f",
   "metadata": {},
   "outputs": [
    {
     "ename": "StopIteration",
     "evalue": "",
     "output_type": "error",
     "traceback": [
      "\u001b[1;31m---------------------------------------------------------------------------\u001b[0m",
      "\u001b[1;31mStopIteration\u001b[0m                             Traceback (most recent call last)",
      "Cell \u001b[1;32mIn[11], line 1\u001b[0m\n\u001b[1;32m----> 1\u001b[0m \u001b[38;5;28mnext\u001b[39m(a)\n",
      "\u001b[1;31mStopIteration\u001b[0m: "
     ]
    }
   ],
   "source": [
    "next(a)"
   ]
  },
  {
   "cell_type": "code",
   "execution_count": 40,
   "id": "91031bfa",
   "metadata": {},
   "outputs": [
    {
     "data": {
      "text/plain": [
       "<generator object my_generator at 0x0000024EA767C300>"
      ]
     },
     "execution_count": 40,
     "metadata": {},
     "output_type": "execute_result"
    }
   ],
   "source": [
    "def my_generator():\n",
    "    yield 1\n",
    "    yield 5\n",
    "    yield 4\n",
    "\n",
    "gen = my_generator()\n",
    "gen\n"
   ]
  },
  {
   "cell_type": "code",
   "execution_count": 38,
   "id": "10f4f475",
   "metadata": {},
   "outputs": [
    {
     "data": {
      "text/plain": [
       "1"
      ]
     },
     "execution_count": 38,
     "metadata": {},
     "output_type": "execute_result"
    }
   ],
   "source": [
    "next(gen)"
   ]
  },
  {
   "cell_type": "code",
   "execution_count": 41,
   "id": "6257b279",
   "metadata": {},
   "outputs": [
    {
     "name": "stdout",
     "output_type": "stream",
     "text": [
      "1\n",
      "5\n",
      "4\n"
     ]
    }
   ],
   "source": [
    "for val in gen:\n",
    "    print(val)"
   ]
  },
  {
   "cell_type": "markdown",
   "id": "b4844a86",
   "metadata": {},
   "source": [
    "### Practical Example: Reading Large Files"
   ]
  },
  {
   "cell_type": "markdown",
   "id": "032e7c60",
   "metadata": {},
   "source": [
    "It is particularly useful to read the large files because they allow you to process one line at a time without loading the entire file into memory"
   ]
  },
  {
   "cell_type": "code",
   "execution_count": 45,
   "id": "ce661138",
   "metadata": {},
   "outputs": [],
   "source": [
    "def read_large_file(file_path):\n",
    "    with open(file_path, 'r') as file:\n",
    "        for line in file:\n",
    "            yield line "
   ]
  },
  {
   "cell_type": "code",
   "execution_count": 46,
   "id": "205ce0a2",
   "metadata": {},
   "outputs": [
    {
     "name": "stdout",
     "output_type": "stream",
     "text": [
      "<!DOCTYPE html>\n",
      "<html lang=\"en\">\n",
      "\n",
      "<head>\n",
      "<meta charset=\"UTF-8\">\n",
      "<meta name=\"viewport\" content=\"width=device-width, initial-scale=1.0\">\n",
      "<title>Scroll Animation</title>\n",
      "<style>\n",
      "@import url(\"https://fonts.googleapis.com/css?family=Hind:300&display=swap\");\n",
      "\n",
      "* {\n",
      "box-sizing: border-box;\n",
      "margin: 0;\n",
      "padding: 0;\n",
      "}\n",
      "\n",
      "body {\n",
      "display: flex;\n",
      "justify-content: center;\n",
      "align-items: center;\n",
      "height: 100vh;\n",
      "background: white;\n",
      "}\n",
      "\n",
      ".shape__container {\n",
      "position: relative;\n",
      "height: 550px;\n",
      "width: 400px;\n",
      "}\n",
      "\n",
      ".shape {\n",
      "overflow: hidden;\n",
      "display: flex;\n",
      "flex-direction: column;\n",
      "background: #4787c9;\n",
      "width: 400px;\n",
      "height: 550px;\n",
      "border-radius: 30px;\n",
      "transform: skewX(-5deg) skewY(-5deg);\n",
      "/Shorthand: skew(-5deg, -5deg);/\n",
      "box-shadow: 0px 5px 14px rgba(9, 33, 58, 0.1);\n",
      "}\n",
      "\n",
      ".customer__picture {\n",
      "height: 50%;\n",
      "}\n",
      "\n",
      ".customer__picture img {\n",
      "height: 100%;\n",
      "transform: skewX(5deg) skewY(5deg) scale(1.15);\n",
      "/Shorthand: skew(5deg, 5deg) scale(1.15);/\n",
      "}\n",
      "\n",
      ".text {\n",
      "font-family: \"Hind\", sans-serif;\n",
      "font-size: 18px;\n",
      "font-weight: 300;\n",
      "line-height: 30px;\n",
      "letter-spacing: 0.5px;\n",
      "color: #f4f4f4;\n",
      "padding: 40px 30px;\n",
      "transform: skewX(5deg) skewY(5deg);\n",
      "/Shorthand: skew(5deg, 5deg);/\n",
      "}\n",
      "\n",
      ".text .logo {\n",
      "margin-bottom: 10px;\n",
      "max-height: 25px;\n",
      "}\n",
      "\n",
      ".shape__shadow {\n",
      "position: absolute;\n",
      "top: 0;\n",
      "left: 0;\n",
      "background: #f0f7ff;\n",
      "width: 400px;\n",
      "height: 550px;\n",
      "border-radius: 30px;\n",
      "transform: skewX(-5deg) skewY(-5deg) rotate(-20deg);\n",
      "/Shorthand: skew(-5deg, -5deg) rotate(-20deg);/\n",
      "z-index: -10;\n",
      "}\n",
      "</style>\n",
      "</head>\n",
      "\n",
      "<body>\n",
      "<div class=\"shape__container\">\n",
      "<div class=\"shape\">\n",
      "<div class=\"customer__picture\">\n",
      "<img\n",
      "src=\"https://images.unsplash.com/photo-1562184760-a11b3cf7c169?ixlib=rb-1.2.1&ixid=eyJhcHBfaWQiOjEyMDd9&auto=format&fit=crop&w=800&q=80\" />\n",
      "</div>\n",
      "<div class=\"text\">\n",
      "<img class=\"logo\" src=\"./images/Spectur.svg\" alt=\"\" />\n",
      "<p>\n",
      "We were struggling to get our new application off the ground, but\n",
      "AppPad was so helpful to set everything up, great support team, and\n",
      "overall an awesome experience from start to finish.\n",
      "</p>\n",
      "</div>\n",
      "</div>\n",
      "<div class=\"shape__shadow\"></div>\n",
      "</div>\n",
      "</body>\n",
      "\n",
      "</html>\n"
     ]
    }
   ],
   "source": [
    "file_path = 'large_file.txt'\n",
    "\n",
    "for li in read_large_file(file_path):\n",
    "    print(li.strip())"
   ]
  }
 ],
 "metadata": {
  "kernelspec": {
   "display_name": "base",
   "language": "python",
   "name": "python3"
  },
  "language_info": {
   "codemirror_mode": {
    "name": "ipython",
    "version": 3
   },
   "file_extension": ".py",
   "mimetype": "text/x-python",
   "name": "python",
   "nbconvert_exporter": "python",
   "pygments_lexer": "ipython3",
   "version": "3.12.7"
  }
 },
 "nbformat": 4,
 "nbformat_minor": 5
}
