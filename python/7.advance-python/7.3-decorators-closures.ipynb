{
 "cells": [
  {
   "cell_type": "markdown",
   "id": "575faa21",
   "metadata": {},
   "source": [
    "### Decorators"
   ]
  },
  {
   "cell_type": "markdown",
   "id": "7a6f9915",
   "metadata": {},
   "source": [
    "Decorators are a powerful and flexible feature in python that allows you to modify the behaviour of a function or class method. They are commonly used to add funcitonality to functions or methods without modifying their actual code. This lesson covers the basics of decorators, including how to create and use them."
   ]
  },
  {
   "cell_type": "code",
   "execution_count": 4,
   "id": "e5a71350",
   "metadata": {},
   "outputs": [
    {
     "data": {
      "text/plain": [
       "'Hey!, Welcome to my course'"
      ]
     },
     "execution_count": 4,
     "metadata": {},
     "output_type": "execute_result"
    }
   ],
   "source": [
    "# Function Copy\n",
    "def welcome():\n",
    "    return \"Hey!, Welcome to my course\"\n",
    "\n",
    "welcome()"
   ]
  },
  {
   "cell_type": "code",
   "execution_count": null,
   "id": "8a9cf13c",
   "metadata": {},
   "outputs": [
    {
     "data": {
      "text/plain": [
       "'Hey!, Welcome to my course'"
      ]
     },
     "execution_count": 5,
     "metadata": {},
     "output_type": "execute_result"
    }
   ],
   "source": [
    "wel = welcome\n",
    "print(wel())\n",
    "del welcome\n",
    "print(wel())"
   ]
  },
  {
   "cell_type": "code",
   "execution_count": 11,
   "id": "389823bc",
   "metadata": {},
   "outputs": [],
   "source": [
    "#Closures\n",
    "def welcome_method(msg):\n",
    "    def sub_welcome_method():\n",
    "        print(\"Welcome to the course\")\n",
    "        print(msg)\n",
    "        print(\"learn concepts carefully\")\n",
    "    return sub_welcome_method()"
   ]
  },
  {
   "cell_type": "code",
   "execution_count": 12,
   "id": "1924211d",
   "metadata": {},
   "outputs": [
    {
     "name": "stdout",
     "output_type": "stream",
     "text": [
      "Welcome to the course\n",
      "Welcome everyone\n",
      "learn concepts carefully\n"
     ]
    }
   ],
   "source": [
    "welcome_method(\"Welcome everyone\")"
   ]
  },
  {
   "cell_type": "code",
   "execution_count": null,
   "id": "9200a5ae",
   "metadata": {},
   "outputs": [],
   "source": [
    "def welcome_method(func):\n",
    "    def sub_welcome_method():\n",
    "        print(\"Welcome to the course\")\n",
    "        func(\"Hey everyone\")\n",
    "        print(\"learn concepts carefully\")\n",
    "    return sub_welcome_method()"
   ]
  },
  {
   "cell_type": "code",
   "execution_count": 18,
   "id": "809fd804",
   "metadata": {},
   "outputs": [
    {
     "name": "stdout",
     "output_type": "stream",
     "text": [
      "Welcome to the course\n",
      "Hey everyone\n",
      "learn concepts carefully\n"
     ]
    }
   ],
   "source": [
    "welcome_method(print)"
   ]
  },
  {
   "cell_type": "code",
   "execution_count": null,
   "id": "8f6b2b11",
   "metadata": {},
   "outputs": [],
   "source": [
    "def welcome_method(func, lst):\n",
    "    def sub_welcome_method():\n",
    "        print(\"Welcome to the course\")\n",
    "        print(func(lst))\n",
    "        print(\"learn concepts carefully\")\n",
    "    return sub_welcome_method()"
   ]
  },
  {
   "cell_type": "code",
   "execution_count": null,
   "id": "28d28433",
   "metadata": {},
   "outputs": [],
   "source": [
    "welcome_method(len, [1, 2, 3, 4, 5, 6])"
   ]
  },
  {
   "cell_type": "code",
   "execution_count": 4,
   "id": "7b611966",
   "metadata": {},
   "outputs": [],
   "source": [
    "### Decorators\n",
    "def main_welcome(func):\n",
    "        def sub_welcome_method():\n",
    "            print(\"Welcome to the course\")\n",
    "            print(func())\n",
    "            print(\"learn concepts carefully\")\n",
    "        return sub_welcome_method()"
   ]
  },
  {
   "cell_type": "code",
   "execution_count": 5,
   "id": "afb983a5",
   "metadata": {},
   "outputs": [
    {
     "name": "stdout",
     "output_type": "stream",
     "text": [
      "This is an advanced python course\n"
     ]
    }
   ],
   "source": [
    "def course_introduction():\n",
    "    print(\"This is an advanced python course\")\n",
    "\n",
    "course_introduction()"
   ]
  },
  {
   "cell_type": "code",
   "execution_count": 6,
   "id": "d16d9665",
   "metadata": {},
   "outputs": [
    {
     "name": "stdout",
     "output_type": "stream",
     "text": [
      "Welcome to the course\n",
      "This is an advanced python course\n",
      "None\n",
      "learn concepts carefully\n"
     ]
    }
   ],
   "source": [
    "main_welcome(course_introduction)"
   ]
  },
  {
   "cell_type": "code",
   "execution_count": 7,
   "id": "31986c2d",
   "metadata": {},
   "outputs": [
    {
     "name": "stdout",
     "output_type": "stream",
     "text": [
      "Welcome to the course\n",
      "This is an advanced python course\n",
      "None\n",
      "learn concepts carefully\n"
     ]
    }
   ],
   "source": [
    "@main_welcome\n",
    "def course_introduction():\n",
    "    print(\"This is an advanced python course\")"
   ]
  },
  {
   "cell_type": "code",
   "execution_count": 9,
   "id": "72a7b247",
   "metadata": {},
   "outputs": [],
   "source": [
    "# Decorator Example 2:\n",
    "def my_decorator(func):\n",
    "    def wrapper():\n",
    "        print(\"Something is happening before the function is called.\")\n",
    "        func()\n",
    "        print(\"Something is happening after the function is called\")\n",
    "    return wrapper"
   ]
  },
  {
   "cell_type": "code",
   "execution_count": 10,
   "id": "e6ff6648",
   "metadata": {},
   "outputs": [],
   "source": [
    "@my_decorator\n",
    "def say_hello():\n",
    "    print(\"Hello\")"
   ]
  },
  {
   "cell_type": "code",
   "execution_count": 11,
   "id": "4e76ebfb",
   "metadata": {},
   "outputs": [
    {
     "name": "stdout",
     "output_type": "stream",
     "text": [
      "Something is happening before the function is called.\n",
      "Hello\n",
      "Something is happening after the function is called\n"
     ]
    }
   ],
   "source": [
    "say_hello()"
   ]
  },
  {
   "cell_type": "code",
   "execution_count": 12,
   "id": "dfe4e4e3",
   "metadata": {},
   "outputs": [],
   "source": [
    "#Decorators with arguments\n",
    "def repeat(n):\n",
    "    def decorator(func):\n",
    "        def wrapper(*args, **kwargs):\n",
    "            for _ in range(n):\n",
    "                func(*args, **kwargs)\n",
    "        return wrapper\n",
    "    return decorator"
   ]
  },
  {
   "cell_type": "code",
   "execution_count": 15,
   "id": "713b7a14",
   "metadata": {},
   "outputs": [],
   "source": [
    "@repeat(3)\n",
    "def say_hello():\n",
    "    print(\"Hello\")"
   ]
  },
  {
   "cell_type": "code",
   "execution_count": 16,
   "id": "f1497d45",
   "metadata": {},
   "outputs": [
    {
     "name": "stdout",
     "output_type": "stream",
     "text": [
      "Hello\n",
      "Hello\n",
      "Hello\n"
     ]
    }
   ],
   "source": [
    "say_hello()"
   ]
  }
 ],
 "metadata": {
  "kernelspec": {
   "display_name": "base",
   "language": "python",
   "name": "python3"
  },
  "language_info": {
   "codemirror_mode": {
    "name": "ipython",
    "version": 3
   },
   "file_extension": ".py",
   "mimetype": "text/x-python",
   "name": "python",
   "nbconvert_exporter": "python",
   "pygments_lexer": "ipython3",
   "version": "3.12.7"
  }
 },
 "nbformat": 4,
 "nbformat_minor": 5
}
