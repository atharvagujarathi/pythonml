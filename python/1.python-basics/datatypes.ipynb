{
 "cells": [
  {
   "cell_type": "code",
   "execution_count": null,
   "id": "920c0d75",
   "metadata": {},
   "outputs": [],
   "source": [
    "# Basic datatype\n",
    "\n",
    "# int\n",
    "# float\n",
    "# boolean\n",
    "# string\n",
    "\n",
    "# Advance datatypes\n",
    "\n",
    "# List\n",
    "# Tuple\n",
    "# Set\n",
    "# Dictionaries"
   ]
  }
 ],
 "metadata": {
  "language_info": {
   "name": "python"
  }
 },
 "nbformat": 4,
 "nbformat_minor": 5
}
