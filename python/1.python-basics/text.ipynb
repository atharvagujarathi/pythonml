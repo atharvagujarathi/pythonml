{
 "cells": [
  {
   "cell_type": "code",
   "execution_count": 3,
   "id": "53e7ec97",
   "metadata": {},
   "outputs": [
    {
     "name": "stdout",
     "output_type": "stream",
     "text": [
      "Atharva\n",
      "Gujarathi\n"
     ]
    }
   ],
   "source": [
    "# Basic syntax rules in python\n",
    "# Case sensitive\n",
    "\n",
    "name=\"Atharva\"\n",
    "Name=\"Gujarathi\"\n",
    "\n",
    "print(name)\n",
    "print(Name)"
   ]
  },
  {
   "cell_type": "code",
   "execution_count": 4,
   "id": "149fb21d",
   "metadata": {},
   "outputs": [
    {
     "name": "stdout",
     "output_type": "stream",
     "text": [
      "yes\n"
     ]
    }
   ],
   "source": [
    "# Indentations\n",
    "# Consisting uses of spaces, tabs.\n",
    "\n",
    "age = 32\n",
    "if age>30:\n",
    "    print(\"yes\")\n",
    "else: \n",
    "    print(\"no\")"
   ]
  },
  {
   "cell_type": "code",
   "execution_count": 8,
   "id": "2872636f",
   "metadata": {},
   "outputs": [
    {
     "name": "stdout",
     "output_type": "stream",
     "text": [
      "60\n"
     ]
    }
   ],
   "source": [
    "# Line Continution\n",
    "\n",
    "total = 1+2+3+4+5+6+7+8+9+ \\\n",
    "4+5+6\n",
    "\n",
    "print(total)"
   ]
  },
  {
   "cell_type": "code",
   "execution_count": null,
   "id": "6753184b",
   "metadata": {},
   "outputs": [
    {
     "data": {
      "text/plain": [
       "int"
      ]
     },
     "execution_count": 10,
     "metadata": {},
     "output_type": "execute_result"
    }
   ],
   "source": [
    "# semantics in python\n",
    "\n",
    "age = 32\n",
    "name = \"Atharva\"\n",
    "\n",
    "type(age)"
   ]
  },
  {
   "cell_type": "code",
   "execution_count": null,
   "id": "b0cde982",
   "metadata": {},
   "outputs": [],
   "source": [
    "# muulti line comments\n",
    "'''\n",
    "1+1\n",
    "1+1\n",
    "1+1\n",
    "'''"
   ]
  },
  {
   "cell_type": "code",
   "execution_count": 11,
   "id": "38733705",
   "metadata": {},
   "outputs": [
    {
     "name": "stdout",
     "output_type": "stream",
     "text": [
      "<class 'int'>\n",
      "<class 'str'>\n"
     ]
    }
   ],
   "source": [
    "# type inference\n",
    "\n",
    "variable = 10\n",
    "\n",
    "print(type(variable))\n",
    "\n",
    "variable = \"Atharva\"\n",
    "\n",
    "print(type(variable))"
   ]
  }
 ],
 "metadata": {
  "kernelspec": {
   "display_name": "base",
   "language": "python",
   "name": "python3"
  },
  "language_info": {
   "codemirror_mode": {
    "name": "ipython",
    "version": 3
   },
   "file_extension": ".py",
   "mimetype": "text/x-python",
   "name": "python",
   "nbconvert_exporter": "python",
   "pygments_lexer": "ipython3",
   "version": "3.12.7"
  }
 },
 "nbformat": 4,
 "nbformat_minor": 5
}
