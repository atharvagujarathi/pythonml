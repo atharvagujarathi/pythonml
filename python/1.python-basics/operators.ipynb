{
 "cells": [
  {
   "cell_type": "code",
   "execution_count": 3,
   "id": "59553092",
   "metadata": {},
   "outputs": [
    {
     "name": "stdout",
     "output_type": "stream",
     "text": [
      "5\n",
      "-1\n",
      "6\n",
      "0.6666666666666666\n",
      "0\n",
      "2\n",
      "8\n"
     ]
    }
   ],
   "source": [
    "# Addition, substraction, multiplication operation\n",
    "\n",
    "a = 2\n",
    "b = 3\n",
    "\n",
    "add_result = a + b\n",
    "sub_result = a - b\n",
    "mul_result = a * b\n",
    "div_result = a / b\n",
    "floor_division_result = a // b\n",
    "mod_result = a % b\n",
    "exponentional_result = a ** b\n",
    "\n",
    "\n",
    "\n",
    "print(add_result)\n",
    "print(sub_result)\n",
    "print(mul_result)\n",
    "print(div_result)\n",
    "print(floor_division_result)\n",
    "print(mod_result)\n",
    "print(exponentional_result)\n"
   ]
  },
  {
   "cell_type": "markdown",
   "id": "6858ece4",
   "metadata": {},
   "source": [
    "<!-- Comparison operator -->"
   ]
  },
  {
   "cell_type": "code",
   "execution_count": null,
   "id": "75aa086e",
   "metadata": {},
   "outputs": [
    {
     "data": {
      "text/plain": [
       "True"
      ]
     },
     "execution_count": 5,
     "metadata": {},
     "output_type": "execute_result"
    }
   ],
   "source": [
    "# Comparision Operators\n",
    "\n",
    "# == equal to\n",
    "a = 10\n",
    "b = 10\n",
    "\n",
    "a == b\n",
    "\n",
    "str1 = \"Atharva\"\n",
    "str2 = \"atharva\"\n",
    "\n",
    "str1 == str2"
   ]
  },
  {
   "cell_type": "code",
   "execution_count": null,
   "id": "39d5ac6a",
   "metadata": {},
   "outputs": [],
   "source": [
    "# Not equal to\n",
    "\n",
    "str1 != str2"
   ]
  },
  {
   "cell_type": "code",
   "execution_count": 6,
   "id": "23e51f6d",
   "metadata": {},
   "outputs": [
    {
     "data": {
      "text/plain": [
       "False"
      ]
     },
     "execution_count": 6,
     "metadata": {},
     "output_type": "execute_result"
    }
   ],
   "source": [
    "# greater than\n",
    "\n",
    "a = 45\n",
    "b = 55\n",
    "\n",
    "a > b"
   ]
  },
  {
   "cell_type": "code",
   "execution_count": 7,
   "id": "4f30e44a",
   "metadata": {},
   "outputs": [
    {
     "data": {
      "text/plain": [
       "True"
      ]
     },
     "execution_count": 7,
     "metadata": {},
     "output_type": "execute_result"
    }
   ],
   "source": [
    "# less than\n",
    "\n",
    "a = 45\n",
    "b = 55\n",
    "\n",
    "a < b"
   ]
  },
  {
   "cell_type": "code",
   "execution_count": 8,
   "id": "e429e75b",
   "metadata": {},
   "outputs": [
    {
     "data": {
      "text/plain": [
       "True"
      ]
     },
     "execution_count": 8,
     "metadata": {},
     "output_type": "execute_result"
    }
   ],
   "source": [
    "# greater than and equal to\n",
    "\n",
    "a = 45\n",
    "b = 45\n",
    "\n",
    "a >= b"
   ]
  },
  {
   "cell_type": "code",
   "execution_count": 9,
   "id": "eed80016",
   "metadata": {},
   "outputs": [
    {
     "data": {
      "text/plain": [
       "True"
      ]
     },
     "execution_count": 9,
     "metadata": {},
     "output_type": "execute_result"
    }
   ],
   "source": [
    "# lesser than and equal to\n",
    "\n",
    "a = 45\n",
    "b = 45\n",
    "\n",
    "a >= b"
   ]
  },
  {
   "cell_type": "markdown",
   "id": "66e77e87",
   "metadata": {},
   "source": [
    "Logical operator "
   ]
  },
  {
   "cell_type": "code",
   "execution_count": 11,
   "id": "e3177d71",
   "metadata": {},
   "outputs": [
    {
     "name": "stdout",
     "output_type": "stream",
     "text": [
      "True\n",
      "True\n",
      "False\n"
     ]
    }
   ],
   "source": [
    "x = True\n",
    "y = True\n",
    "\n",
    "and_result = x and y\n",
    "or_result = x or y\n",
    "not_result = not x\n",
    "\n",
    "print(and_result)\n",
    "print(or_result)\n",
    "print(not_result)\n"
   ]
  }
 ],
 "metadata": {
  "kernelspec": {
   "display_name": "base",
   "language": "python",
   "name": "python3"
  },
  "language_info": {
   "codemirror_mode": {
    "name": "ipython",
    "version": 3
   },
   "file_extension": ".py",
   "mimetype": "text/x-python",
   "name": "python",
   "nbconvert_exporter": "python",
   "pygments_lexer": "ipython3",
   "version": "3.12.7"
  }
 },
 "nbformat": 4,
 "nbformat_minor": 5
}
