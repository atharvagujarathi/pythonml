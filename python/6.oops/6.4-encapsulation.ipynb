{
 "cells": [
  {
   "cell_type": "markdown",
   "id": "da4b3e7d",
   "metadata": {},
   "source": [
    "### Encapsulation & Abstraction\n",
    "\n",
    "Encapsulation is the concept of wrapping data(variables) and methods(function) together as a single unit. It restricts direct access to some of the object's components, which is a means of preventing accidental interference and misuse of the data\n",
    "\n",
    "Abstraction involves hiding complex implementation details and exposing only the necessary features."
   ]
  },
  {
   "cell_type": "code",
   "execution_count": null,
   "id": "2e7ba9d1",
   "metadata": {},
   "outputs": [
    {
     "name": "stdout",
     "output_type": "stream",
     "text": [
      "Manish\n"
     ]
    },
    {
     "data": {
      "text/plain": [
       "'Manish'"
      ]
     },
     "execution_count": 3,
     "metadata": {},
     "output_type": "execute_result"
    }
   ],
   "source": [
    "# Encapsulation with getter and setter method\n",
    "# Public, protected, private variables and access modifiers\n",
    "\n",
    "# Public Variable\n",
    "\n",
    "class Person:\n",
    "    def __init__(self, name, age):\n",
    "        self.name = name # Public Variable\n",
    "        self.age = age # Public Variable\n",
    "\n",
    "def get_name(person):\n",
    "    return person.name\n",
    "\n",
    "person = Person(\"Manish\", 24)\n",
    "print(person.name)\n",
    "# dir(person)\n",
    "get_name(person)"
   ]
  },
  {
   "cell_type": "code",
   "execution_count": null,
   "id": "a55db58d",
   "metadata": {},
   "outputs": [
    {
     "data": {
      "text/plain": [
       "'Manish'"
      ]
     },
     "execution_count": 12,
     "metadata": {},
     "output_type": "execute_result"
    }
   ],
   "source": [
    "# Encapsulation with getter and setter method\n",
    "# Public, protected, private variables and access modifiers\n",
    "# private Variable\n",
    "\n",
    "class Person:\n",
    "    def __init__(self, name, age, gender):\n",
    "        self.__name = name # private Variable\n",
    "        self.__age = age # private Variable\n",
    "        self.gender = gender\n",
    "\n",
    "def get_name(person):\n",
    "    return person._Person__name\n",
    "\n",
    "\n",
    "person = Person(\"Manish\", 24, \"Male\")\n",
    "\n",
    "dir(person)\n",
    "get_name(person)\n"
   ]
  },
  {
   "cell_type": "code",
   "execution_count": null,
   "id": "2619fa6e",
   "metadata": {},
   "outputs": [
    {
     "name": "stdout",
     "output_type": "stream",
     "text": [
      "Manish\n"
     ]
    }
   ],
   "source": [
    "# Encapsulation with getter and setter method\n",
    "# Public, protected, private variables and access modifiers\n",
    "\n",
    "# protected Variable\n",
    "\n",
    "class Person:\n",
    "    def __init__(self, name, age, gender):\n",
    "        self._name = name # protected Variable\n",
    "        self._age = age # protected Variable\n",
    "        self.gender = gender # protected Variable\n",
    "\n",
    "\n",
    "class Employee(Person):\n",
    "    def __init__(self, name, age, gender):\n",
    "        super().__init__(name, age, gender)\n",
    "\n",
    "\n",
    "Employee = Employee(\"Manish\", 24, \"Male\")\n",
    "print(Employee._name)\n",
    "# dir(person)"
   ]
  }
 ],
 "metadata": {
  "kernelspec": {
   "display_name": "base",
   "language": "python",
   "name": "python3"
  },
  "language_info": {
   "codemirror_mode": {
    "name": "ipython",
    "version": 3
   },
   "file_extension": ".py",
   "mimetype": "text/x-python",
   "name": "python",
   "nbconvert_exporter": "python",
   "pygments_lexer": "ipython3",
   "version": "3.12.7"
  }
 },
 "nbformat": 4,
 "nbformat_minor": 5
}
