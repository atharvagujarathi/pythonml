{
 "cells": [
  {
   "cell_type": "markdown",
   "id": "3ed768a4",
   "metadata": {},
   "source": [
    "Inheritance is a fundamental concept of oop that allows to inherits the attributes and methods from another class "
   ]
  },
  {
   "cell_type": "code",
   "execution_count": null,
   "id": "ddbf0cdf",
   "metadata": {},
   "outputs": [
    {
     "name": "stdout",
     "output_type": "stream",
     "text": [
      "The Person will drive the petrol car\n",
      "Tesla supports self Driving : True\n",
      "The Person will drive the ev car\n"
     ]
    }
   ],
   "source": [
    "# --Single Inheritance\n",
    "# Parent Class\n",
    "class Car:\n",
    "    # Constructor\n",
    "    def __init__(self, windows, engieneType, doors):\n",
    "        self.windows = windows\n",
    "        self.engieneType = engieneType\n",
    "        self.doors = doors\n",
    "    \n",
    "    def drive(self):\n",
    "        print(f\"The Person will drive the {self.engieneType} car\")\n",
    "\n",
    "car1=Car(4, \"petrol\", 2)\n",
    "car1.drive()\n",
    "\n",
    "class Tesla(Car):\n",
    "    def __init__(self, windows, engieneType ,doors, is_selfDriving):\n",
    "        super().__init__(windows, engieneType, doors)\n",
    "        self.is_selfDriving = is_selfDriving\n",
    "\n",
    "    def self_Driving(self):\n",
    "        print(f\"Tesla supports self Driving : {self.is_selfDriving}\")\n",
    "\n",
    "tesla1 = Tesla(4, \"ev\", 5, True)\n",
    "tesla1.self_Driving()\n",
    "tesla1.drive()"
   ]
  },
  {
   "cell_type": "code",
   "execution_count": null,
   "id": "e2220a6f",
   "metadata": {},
   "outputs": [
    {
     "name": "stdout",
     "output_type": "stream",
     "text": [
      "<__main__.Dog object at 0x000001A7CA313230>\n"
     ]
    }
   ],
   "source": [
    "# --Multiple Inheritance\n",
    "# When a class inherits from more than one base class.\n",
    "\n",
    "# Base Class 1\n",
    "class Animal:\n",
    "    def __init__(self, name):\n",
    "        self.name = name\n",
    "\n",
    "    def speak(self):\n",
    "        print(\"SubClass must be implemented this method\")\n",
    "\n",
    "# Base Class 2\n",
    "class Pet:\n",
    "    def __init__(self, owner):\n",
    "        self.owner = owner\n",
    "\n",
    "# Derived Class\n",
    "class Dog(Animal, Pet):\n",
    "    def __init__(self, name, owner,):\n",
    "        Animal.__init__(self, name)\n",
    "        Pet.__init__(self, owner)\n",
    "    \n",
    "    def bark(self):\n",
    "        return f\"{self.name} says wooff!\"\n",
    "\n",
    "# Create object\n",
    "dog1 = Dog(\"Buddy\", \"Manish\")\n",
    "print(dog1)\n",
    "dog1.bark()\n"
   ]
  }
 ],
 "metadata": {
  "kernelspec": {
   "display_name": "base",
   "language": "python",
   "name": "python3"
  },
  "language_info": {
   "codemirror_mode": {
    "name": "ipython",
    "version": 3
   },
   "file_extension": ".py",
   "mimetype": "text/x-python",
   "name": "python",
   "nbconvert_exporter": "python",
   "pygments_lexer": "ipython3",
   "version": "3.12.7"
  }
 },
 "nbformat": 4,
 "nbformat_minor": 5
}
