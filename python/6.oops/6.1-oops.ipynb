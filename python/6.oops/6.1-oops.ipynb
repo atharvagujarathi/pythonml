{
 "cells": [
  {
   "cell_type": "markdown",
   "id": "cb578607",
   "metadata": {},
   "source": [
    "Classes & Objects"
   ]
  },
  {
   "cell_type": "markdown",
   "id": "12719763",
   "metadata": {},
   "source": [
    "oops is programming language pradigm that uses \"objects\" to design applications and computer programs. Classes is a blue-print for creating objects. It has separate attributes and methods."
   ]
  },
  {
   "cell_type": "code",
   "execution_count": 3,
   "id": "749634f7",
   "metadata": {},
   "outputs": [
    {
     "name": "stdout",
     "output_type": "stream",
     "text": [
      "<class '__main__.Car'>\n",
      "<__main__.Car object at 0x0000010F12CC15E0>\n",
      "<__main__.Car object at 0x0000010F12CC3EF0>\n",
      "['__class__', '__delattr__', '__dict__', '__dir__', '__doc__', '__eq__', '__format__', '__ge__', '__getattribute__', '__getstate__', '__gt__', '__hash__', '__init__', '__init_subclass__', '__le__', '__lt__', '__module__', '__ne__', '__new__', '__reduce__', '__reduce_ex__', '__repr__', '__setattr__', '__sizeof__', '__str__', '__subclasshook__', '__weakref__']\n"
     ]
    }
   ],
   "source": [
    "class Car:\n",
    "    pass\n",
    "\n",
    "audi=Car()\n",
    "toyota=Car()\n",
    "\n",
    "print(type(toyota))\n",
    "print(audi)\n",
    "print(toyota)\n",
    "print(dir(audi))"
   ]
  },
  {
   "cell_type": "code",
   "execution_count": 7,
   "id": "4b50d733",
   "metadata": {},
   "outputs": [
    {
     "name": "stdout",
     "output_type": "stream",
     "text": [
      "Lucy says woofff\n",
      "<class '__main__.Dog'>\n"
     ]
    }
   ],
   "source": [
    "# instance variable and methods\n",
    "\n",
    "class Dog:\n",
    "    # Constructor\n",
    "    def __init__(self, name, age):\n",
    "        self.name = name\n",
    "        self.age = age\n",
    "\n",
    "    # Instance Method\n",
    "    def bark(self):\n",
    "        print(f\"{self.name} says woofff\")\n",
    "\n",
    "    # Create Objects\n",
    "dog1=Dog(\"Buddy\", 3)\n",
    "Dog2=Dog(\"Lucy\", 4)\n",
    "Dog2.bark()\n",
    "print(Dog)\n",
    "    \n",
    "    \n",
    "    \n",
    "    \n",
    "\n",
    "        "
   ]
  },
  {
   "cell_type": "code",
   "execution_count": 13,
   "id": "78c6ecfd",
   "metadata": {},
   "outputs": [
    {
     "name": "stdout",
     "output_type": "stream",
     "text": [
      "Manish\n",
      "500\n",
      "500 is deposited. New balance is 1000\n",
      "900 is withdrawn. New balance is 100\n"
     ]
    },
    {
     "data": {
      "text/plain": [
       "100"
      ]
     },
     "execution_count": 13,
     "metadata": {},
     "output_type": "execute_result"
    }
   ],
   "source": [
    "# Modeling a Bank Account\n",
    "\n",
    "class BankAccount:\n",
    "    def __init__(self, owner, balance=0):\n",
    "        self.owner = owner\n",
    "        self.balance = balance\n",
    "\n",
    "    def deposit(self, amount):\n",
    "        self.balance+=amount\n",
    "        print(f\"{amount} is deposited. New balance is {self.balance}\")\n",
    "\n",
    "    def withdraw(self, amount):\n",
    "        if amount > self.balance:\n",
    "            print(\"Insufficient Funds!\")\n",
    "        else:\n",
    "            self.balance-=amount\n",
    "            print(f\"{amount} is withdrawn. New balance is {self.balance}\")\n",
    "\n",
    "    def get_balance(self):\n",
    "        return self.balance\n",
    "    \n",
    "# Create Object\n",
    "\n",
    "account=BankAccount(\"Manish\", 500)\n",
    "print(account.owner)\n",
    "print(account.balance)\n",
    "account.deposit(500)\n",
    "account.withdraw(900)\n",
    "account.get_balance()\n",
    "\n",
    "        \n",
    "\n",
    "\n"
   ]
  }
 ],
 "metadata": {
  "kernelspec": {
   "display_name": "base",
   "language": "python",
   "name": "python3"
  },
  "language_info": {
   "codemirror_mode": {
    "name": "ipython",
    "version": 3
   },
   "file_extension": ".py",
   "mimetype": "text/x-python",
   "name": "python",
   "nbconvert_exporter": "python",
   "pygments_lexer": "ipython3",
   "version": "3.12.7"
  }
 },
 "nbformat": 4,
 "nbformat_minor": 5
}
