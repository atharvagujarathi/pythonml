{
 "cells": [
  {
   "cell_type": "markdown",
   "id": "54c35e96",
   "metadata": {},
   "source": [
    "### Polymorphism\n",
    "Polymorphism is core concept of oops that allows objects of different classes to be treated as objects of a common superclass. It provides a way to perform a single action in different forms. It is achieved through method overiding and interfaces"
   ]
  },
  {
   "cell_type": "markdown",
   "id": "190ff0aa",
   "metadata": {},
   "source": [
    "### Method overiding\n",
    "it allows child class to provide specific implmentation of a method that is already defined in its parent class."
   ]
  },
  {
   "cell_type": "code",
   "execution_count": 4,
   "id": "24627cbf",
   "metadata": {},
   "outputs": [
    {
     "name": "stdout",
     "output_type": "stream",
     "text": [
      "Buddy says woooooooooooof!\n",
      "kay says Meow!\n",
      "kay says Meow!\n"
     ]
    }
   ],
   "source": [
    "# Method Overiding\n",
    "# Base Class\n",
    "class Animal:\n",
    "    def __init__(self, name):\n",
    "        self.name = name\n",
    "    \n",
    "    def bark(self):\n",
    "        return f\"{self.name} says wooff!\"\n",
    "\n",
    "# Derived Class\n",
    "class Dog(Animal):\n",
    "    def __init__(self, name):\n",
    "        super().__init__(name)\n",
    "\n",
    "    def bark(self):\n",
    "        return f\"{self.name} says woooooooooooof!\"\n",
    "    \n",
    "class Cat(Animal):\n",
    "    def __init__(self, name):\n",
    "        super().__init__(name)\n",
    "\n",
    "    def bark(self):\n",
    "        return f\"{self.name} says Meow!\"\n",
    "    \n",
    "# Function that demonstrates polymorphism\n",
    "def animal_speak(animal):\n",
    "    print(animal.bark())\n",
    "\n",
    "# Create Object\n",
    "dog1 = Dog(\"Buddy\")\n",
    "cat1 = Cat(\"kay\")\n",
    "\n",
    "print(dog1.bark())\n",
    "print(cat1.bark())\n",
    "animal_speak(cat1)\n",
    "\n",
    "\n"
   ]
  },
  {
   "cell_type": "code",
   "execution_count": null,
   "id": "4ed301be",
   "metadata": {},
   "outputs": [
    {
     "name": "stdout",
     "output_type": "stream",
     "text": [
      "The Area is 200\n",
      "The Area is 12.56\n"
     ]
    }
   ],
   "source": [
    "# Polymorphism with functions and methods.\n",
    "# Base Class\n",
    "class Shape:\n",
    "    def area(self):\n",
    "        return \"The Area will be according to Fingure\"\n",
    "    \n",
    "# Derived Class 1\n",
    "class rectAngle(Shape):\n",
    "    def __init__(self, width, height):\n",
    "        self.width = width\n",
    "        self.height = height\n",
    "    \n",
    "    def area(self):\n",
    "        return self.width * self.height\n",
    "    \n",
    "# Derived Class 2\n",
    "class Circle(Shape):\n",
    "    def __init__(self, radius):\n",
    "        self.radius = radius\n",
    "    \n",
    "    def area(self):\n",
    "        return 3.14 * self.radius * self.radius\n",
    "    \n",
    "# Function that demonstrates polymorphism\n",
    "def print_area(shape):\n",
    "    print(f\"The Area is {shape.area()}\")\n",
    "\n",
    "obj1 = rectAngle(10, 20)\n",
    "obj2 = Circle(2)\n",
    "print_area(obj1)\n",
    "print_area(obj2)\n",
    "\n"
   ]
  },
  {
   "cell_type": "markdown",
   "id": "b46b687a",
   "metadata": {},
   "source": [
    "### Python abstract Base Class\n",
    "abstract Base Class are used to define common methods for a group of related objects. They can enforce that derived classes implement particular methods, promoting consistency across different implementations.\n",
    "\n",
    "If your parent class contains abstract methods (marked with @abstractmethod), then:\n",
    "\n",
    "You must inherit and implement all abstract methods in your child class.\n",
    "\n",
    "If you don’t implement all abstract methods in the child class, you cannot create an object of that child class — Python will throw an error."
   ]
  },
  {
   "cell_type": "code",
   "execution_count": null,
   "id": "bf30a1ba",
   "metadata": {},
   "outputs": [
    {
     "name": "stdout",
     "output_type": "stream",
     "text": [
      "Car engiene Started\n",
      "None\n",
      "MotorCycle engiene Started\n",
      "None\n"
     ]
    }
   ],
   "source": [
    "from abc import ABC, abstractmethod\n",
    "\n",
    "# Define Abstract Class\n",
    "class Vahicle(ABC):\n",
    "    @abstractmethod\n",
    "    def start_engiene(self):\n",
    "        pass\n",
    "\n",
    "# Derived Class 1\n",
    "class Car(Vahicle):\n",
    "    def start_engiene(self):\n",
    "        return \"Car engiene Started\"\n",
    "    \n",
    "# Derived Class 2\n",
    "class MotorCycle(Vahicle):\n",
    "    def start_engiene(self):\n",
    "        return \"MotorCycle engiene Started\"\n",
    "    \n",
    "# Function that demonstrates polymorphism\n",
    "def start_vehicle(vehicle):\n",
    "    print(vehicle.start_engiene())\n",
    "    \n",
    "# Create Object\n",
    "car = Car()\n",
    "mc = MotorCycle()\n",
    "\n",
    "start_vehicle(car)\n",
    "start_vehicle(mc)\n"
   ]
  }
 ],
 "metadata": {
  "kernelspec": {
   "display_name": "base",
   "language": "python",
   "name": "python3"
  },
  "language_info": {
   "codemirror_mode": {
    "name": "ipython",
    "version": 3
   },
   "file_extension": ".py",
   "mimetype": "text/x-python",
   "name": "python",
   "nbconvert_exporter": "python",
   "pygments_lexer": "ipython3",
   "version": "3.12.7"
  }
 },
 "nbformat": 4,
 "nbformat_minor": 5
}
