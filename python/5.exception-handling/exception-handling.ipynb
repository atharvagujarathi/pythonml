{
 "cells": [
  {
   "cell_type": "markdown",
   "id": "fb3c89bc",
   "metadata": {},
   "source": [
    "Python handles runtime errors using try, except, else, and finally blocks"
   ]
  },
  {
   "cell_type": "code",
   "execution_count": 1,
   "id": "6c31e891",
   "metadata": {},
   "outputs": [
    {
     "name": "stdout",
     "output_type": "stream",
     "text": [
      "You can't divide by zero!\n"
     ]
    }
   ],
   "source": [
    "try:\n",
    "    x = 10 / 0\n",
    "except ZeroDivisionError:\n",
    "    print(\"You can't divide by zero!\")\n"
   ]
  },
  {
   "cell_type": "markdown",
   "id": "e34ad2ce",
   "metadata": {},
   "source": [
    "Catching Multiple Exceptions"
   ]
  },
  {
   "cell_type": "code",
   "execution_count": null,
   "id": "5a0f8782",
   "metadata": {},
   "outputs": [],
   "source": [
    "try:\n",
    "    num = int(\"abc\")\n",
    "except (ValueError, TypeError) as e:\n",
    "    print(\"Error:\", e)\n"
   ]
  },
  {
   "cell_type": "markdown",
   "id": "6434efc5",
   "metadata": {},
   "source": [
    " Using else Block"
   ]
  },
  {
   "cell_type": "code",
   "execution_count": null,
   "id": "a3d6ffc3",
   "metadata": {},
   "outputs": [],
   "source": [
    "try:\n",
    "    x = 5 / 1\n",
    "except ZeroDivisionError:\n",
    "    print(\"Division error!\")\n",
    "else:\n",
    "    print(\"Division successful:\", x)\n"
   ]
  },
  {
   "cell_type": "markdown",
   "id": "a24ecabb",
   "metadata": {},
   "source": [
    "Using finally Block"
   ]
  },
  {
   "cell_type": "code",
   "execution_count": 3,
   "id": "49ada06d",
   "metadata": {},
   "outputs": [
    {
     "name": "stdout",
     "output_type": "stream",
     "text": [
      "File not found.\n",
      "This always runs.\n"
     ]
    }
   ],
   "source": [
    "try:\n",
    "    file = open(\"data.txt\")\n",
    "    # Do something\n",
    "except FileNotFoundError:\n",
    "    print(\"File not found.\")\n",
    "finally:\n",
    "    print(\"This always runs.\")\n"
   ]
  },
  {
   "cell_type": "markdown",
   "id": "f9fb3bbb",
   "metadata": {},
   "source": [
    "Raising Custom Exceptions"
   ]
  },
  {
   "cell_type": "markdown",
   "id": "5d6c8710",
   "metadata": {},
   "source": [
    "means that you are intentionally stopping the program and throwing a ValueError with a custom message."
   ]
  },
  {
   "cell_type": "code",
   "execution_count": null,
   "id": "c8fa93d2",
   "metadata": {},
   "outputs": [],
   "source": [
    "def set_age(age):\n",
    "    if age < 0:\n",
    "        raise ValueError(\"Age cannot be negative\")\n",
    "    print(f\"Age is {age}\")\n",
    "\n",
    "set_age(-5)\n"
   ]
  }
 ],
 "metadata": {
  "kernelspec": {
   "display_name": "base",
   "language": "python",
   "name": "python3"
  },
  "language_info": {
   "codemirror_mode": {
    "name": "ipython",
    "version": 3
   },
   "file_extension": ".py",
   "mimetype": "text/x-python",
   "name": "python",
   "nbconvert_exporter": "python",
   "pygments_lexer": "ipython3",
   "version": "3.12.7"
  }
 },
 "nbformat": 4,
 "nbformat_minor": 5
}
